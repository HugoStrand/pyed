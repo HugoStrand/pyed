{
 "cells": [
  {
   "cell_type": "markdown",
   "metadata": {},
   "source": [
    "# **PYED**: Exact diagonalization for finite quantum systems\n",
    "\n",
    "Copyright (C) 2017, H. U.R. Strand\n",
    "\n",
    "The python module `pyed` implements exact diagonalization for finite fermionic many-body quantum systems, together with calculations of several response functions in imagianary time.\n",
    "\n",
    "The many-body system is defined using `triqs` second-quantized operators and the response functions are stored in `triqs` Green's function containters.\n",
    "\n",
    "## Hamiltonians\n",
    "\n",
    "As an example let us solve the Hubbard atom with Hamiltonian $H = U\\hat{n}_{\\uparrow} \\hat{n}_{\\downarrow} - \\mu ( \\hat{n}_{\\uparrow} + \\hat{n}_{\\downarrow})$, where $\\hat{n}_\\sigma = c^\\dagger_\\sigma c_\\sigma$.\n"
   ]
  },
  {
   "cell_type": "code",
   "execution_count": 1,
   "metadata": {},
   "outputs": [
    {
     "name": "stdout",
     "output_type": "stream",
     "text": [
      "H = -0.1*C^+(0,0)C(0,0) + -0.1*C^+(1,0)C(1,0) + 1*C^+(0,0)C^+(1,0)C(1,0)C(0,0)\n"
     ]
    }
   ],
   "source": [
    "from triqs.operators import c, c_dag\n",
    "up, down = 0, 1\n",
    "n_up = c_dag(up, 0) * c(up, 0)\n",
    "n_down = c_dag(down, 0) * c(down, 0)\n",
    "\n",
    "U = 1.0\n",
    "mu = 0.1\n",
    "\n",
    "H = U * n_up * n_down - mu * (n_up + n_down)\n",
    "\n",
    "print 'H =', H"
   ]
  },
  {
   "cell_type": "markdown",
   "metadata": {},
   "source": [
    "## Thermal equilibrium solution\n",
    "\n",
    "To solve the thermal equilibrium of the system we can diagonalize $H$ and determine the partition function $\\mathcal{Z}$ (or alternatively the free energy $\\Omega = -\\frac{1}{\\beta} \\ln \\mathcal{Z}$) and the many-body density matrix $\\rho$ using the egenstates $|\\Gamma \\rangle$ and eigenvalues $E_\\Gamma$ of $H$. The partition function $\\mathcal{Z}$ is given by the sum of Boltzman weights\n",
    "\n",
    "$$\n",
    "\\mathcal{Z} = \\sum_\\Gamma e^{-\\beta E_\\Gamma} \\, ,\n",
    "$$\n",
    "while the many-body density matrix is given by the ket-bra Boltzman weighted sum\n",
    "\n",
    "$$\n",
    "\\rho = \\frac{1}{\\mathcal{Z}} \\sum_\\Gamma e^{-\\beta E_\\gamma} |\\Gamma \\rangle \\langle \\Gamma|\n",
    "\\, .\n",
    "$$\n",
    "\n",
    "To accomplish this we pass the Hamiltonian $H$ and a list of unique annihilation opeators used in $H$ together with the inverse temperature $\\beta$ to a `pyed.TriqsExactDiagonalization` class instance:"
   ]
  },
  {
   "cell_type": "code",
   "execution_count": 2,
   "metadata": {},
   "outputs": [
    {
     "name": "stdout",
     "output_type": "stream",
     "text": [
      "Z = 2.9840296413\n",
      "\\Omega = -0.646637307852\n",
      "\\rho =\n",
      "[[ 0.27437085  0.          0.          0.        ]\n",
      " [ 0.          0.33511731  0.          0.        ]\n",
      " [ 0.          0.          0.33511731  0.        ]\n",
      " [ 0.          0.          0.          0.05539452]]\n"
     ]
    }
   ],
   "source": [
    "beta = 2.0 # inverse temperature\n",
    "fundamental_operators = [c(up,0), c(down,0)]\n",
    "\n",
    "from pyed.TriqsExactDiagonalization import TriqsExactDiagonalization\n",
    "ed = TriqsExactDiagonalization(H, fundamental_operators, beta)\n",
    "\n",
    "print r'Z =', ed.get_partition_function()\n",
    "print r'\\Omega =', ed.get_free_energy()\n",
    "print r'\\rho ='\n",
    "print ed.ed.get_density_matrix()"
   ]
  },
  {
   "cell_type": "markdown",
   "metadata": {},
   "source": [
    "### Thermal expectation values\n",
    "\n",
    "Using the many-body density matrix we can evaluate the expectation value of any operator $\\mathcal{O}$ by taking the trace\n",
    "\n",
    "$$\n",
    "\\langle \\mathcal{O} \\rangle = \\textrm{Tr} [ \\rho \\mathcal{O} ]\n",
    "$$\n"
   ]
  },
  {
   "cell_type": "code",
   "execution_count": 3,
   "metadata": {},
   "outputs": [
    {
     "name": "stdout",
     "output_type": "stream",
     "text": [
      "<n_up>   = 0.390511834096\n",
      "<n_down> = 0.390511834096\n",
      "<n_up * n_down> = 0.0553945195228\n"
     ]
    }
   ],
   "source": [
    "print '<n_up>   =', ed.get_expectation_value(n_up)\n",
    "print '<n_down> =', ed.get_expectation_value(n_down)\n",
    "print '<n_up * n_down> =', ed.get_expectation_value(n_up * n_down)"
   ]
  },
  {
   "cell_type": "markdown",
   "metadata": {},
   "source": [
    "## Imaginary time single-particle Green's function\n",
    "We can also calculate the dynamical fluctuations of the system by computing its response functions. The simples case is the single-particle Green's function, defined as the imaginary time ordered expectation value\n",
    "\n",
    "$$\n",
    " G_{\\sigma \\sigma'}(\\tau) \\equiv\n",
    "   - \\langle \\mathcal{T} \\, c_{\\sigma}(\\tau) c_{\\sigma'}^\\dagger(0) \\rangle\n",
    " =\n",
    " - \\frac{1}{\\mathcal{Z}} \\text{Tr}\n",
    "     \\left[ e^{-\\beta H} c_{\\sigma}(\\tau_1) c_{\\sigma'}^\\dagger(0) \\right]\n",
    "$$\n",
    "where the imaginary time dependent operators are defined in the Heisenberg picture $c_{\\sigma}(\\tau) \\equiv e^{\\tau H} c_{\\sigma} e^{-\\tau H}$ and $c^\\dagger_{\\sigma}(\\tau) \\equiv e^{\\tau H} c^\\dagger_{\\sigma} e^{-\\tau H}$.\n",
    "\n",
    "To calculate $G(\\tau)$ we first create `triqs.GfImTime` instance to store the result and pass it to our ED solver instance:"
   ]
  },
  {
   "cell_type": "code",
   "execution_count": 4,
   "metadata": {
    "collapsed": true
   },
   "outputs": [],
   "source": [
    "from triqs.gf import GfImTime\n",
    "g_tau = GfImTime(name=r'$g$', beta=beta, statistic='Fermion', n_points=50, target_shape=(1,1))    \n",
    "ed.set_g2_tau(g_tau, c(up,0), c_dag(up,0))\n",
    "\n",
    "import matplotlib.pyplot as plt\n",
    "from triqs.plot.mpl_interface import oplot\n",
    "\n",
    "plt.figure(); oplot(g_tau); plt.savefig('figure_g_tau.png')"
   ]
  },
  {
   "cell_type": "markdown",
   "metadata": {},
   "source": [
    "\n",
    "![Single-particle Green's function](figure_g_tau.png)"
   ]
  },
  {
   "cell_type": "markdown",
   "metadata": {},
   "source": [
    "The two-operator response function calculator is more general and can be used to calculate any type of two operator response, e.g., the density-density response function: $\\chi_{\\sigma \\sigma'}(\\tau) \\equiv -\\langle \\hat{n}_\\sigma(\\tau) \\hat{n}_\\sigma' \\rangle$. However for the very simple single-Hubbard-atom system this response function is $\\tau$ independent as seen below:\n"
   ]
  },
  {
   "cell_type": "code",
   "execution_count": 5,
   "metadata": {
    "collapsed": true
   },
   "outputs": [],
   "source": [
    "from triqs.gf import GfImTime\n",
    "densdens_tau = GfImTime(name=r'$\\langle n(\\tau) n(0) \\rangle$', beta=beta, statistic='Boson', n_points=50, target_shape=(1,1))    \n",
    "ed.set_g2_tau(densdens_tau, n_up, n_down)\n",
    "\n",
    "plt.figure(); oplot(densdens_tau); plt.savefig('figure_densdens_tau.png')"
   ]
  },
  {
   "cell_type": "markdown",
   "metadata": {},
   "source": [
    "![Density density response function](figure_densdens_tau.png)"
   ]
  },
  {
   "cell_type": "markdown",
   "metadata": {},
   "source": [
    "For fermionic two-operator response functions `pyed` can also directly calculate the fourier transformed response function\n",
    "\n",
    "$$\n",
    "G(i \\omega_n) \\equiv \\int_0^\\beta d\\tau \\, e^{i\\omega_n \\tau} G(\\tau)\n",
    "$$\n",
    "defined on the (fermionic) Matsubara frequencies $i\\omega_n = \\frac{2\\pi}{\\beta}(2n + 1)$. \n",
    "\n",
    "<span style=\"color:red\">NB! `pyed` currently lacks support for handling bosonic response functions in frequency.</span>"
   ]
  },
  {
   "cell_type": "code",
   "execution_count": 6,
   "metadata": {
    "collapsed": true
   },
   "outputs": [],
   "source": [
    "from triqs.gf import GfImFreq\n",
    "g_iwn = GfImFreq(name=r'$g$', beta=beta, statistic='Fermion', n_points=10, target_shape=(1,1))\n",
    "ed.set_g2_iwn(g_iwn, c(up,0), c_dag(up,0))\n",
    "\n",
    "plt.figure(); oplot(g_iwn); plt.savefig('figure_g_iwn.png')"
   ]
  },
  {
   "cell_type": "markdown",
   "metadata": {},
   "source": [
    "![Single-particle Green's function in imaginary frequency](figure_g_iwn.png)"
   ]
  },
  {
   "cell_type": "markdown",
   "metadata": {},
   "source": [
    "# Four-operator response functions\n",
    "\n",
    "In `pyed` there is functionality to compute also higher-order response functions (involving more than two operators and more than one time). Currently two- and three- time ordered expectation values are supported solely in imaginary time.\n",
    "\n",
    "The two-particle Green's function $G^{(4)}(\\tau_1, \\tau_2, \\tau_3)$ is a prominent example\n",
    "\n",
    "$$\n",
    "G^{(4)}_{\\alpha\\bar{\\beta}\\gamma\\bar{\\delta}}(\\tau_1, \\tau_2, \\tau_3) \\equiv\n",
    "\\langle \\mathcal{T} \n",
    "c_\\alpha(\\tau_1) c^\\dagger_{\\bar{\\beta}} (\\tau_2) \n",
    "c_\\gamma(\\tau_3) c^\\dagger_{\\bar{\\delta}} (0)  \\rangle\n",
    "$$\n",
    "\n",
    "That easily can be calculated with `pyed` by passing a suitable `triqs` container to the ED solver:\n"
   ]
  },
  {
   "cell_type": "code",
   "execution_count": 10,
   "metadata": {},
   "outputs": [],
   "source": [
    "from triqs.gf import Gf\n",
    "from triqs.gf import MeshImTime, MeshProduct\n",
    "\n",
    "ntau = 10\n",
    "imtime = MeshImTime(beta, 'Fermion', ntau)\n",
    "prodmesh = MeshProduct(imtime, imtime, imtime)\n",
    "\n",
    "g4_tau = Gf(name=r'$G^{(4)}(\\tau_1,\\tau_2,\\tau_3)$', mesh=prodmesh, target_shape=[1, 1, 1, 1])\n",
    "ed.set_g4_tau(g4_tau, c(up,0), c_dag(up,0), c(up,0), c_dag(up,0))"
   ]
  },
  {
   "cell_type": "markdown",
   "metadata": {},
   "source": [
    "To visualize this three dimensional scalar field one have to resort to some cut plane to represent it in a two dimensional plot. So instead of plotting $G^{(4)}$ we here show the special case of a two-time response function correspoding to $G^{(4)}(\\tau_1, 0^-, \\tau_2)$ namely the particle-particle equal time response function\n",
    "\n",
    "$$\n",
    "G_{\\alpha \\beta \\gamma}^{(3)}(\\tau_1, \\tau_2) \\equiv \n",
    "\\langle \\mathcal{T} c_{\\alpha}(\\tau_1) c^\\dagger_{\\bar{\\beta}}(\\tau_2) \\hat{n}_\\gamma(0)\\rangle \\equiv \n",
    "- \\langle \\mathcal{T} c_{\\alpha}(\\tau_1) c^\\dagger_{\\bar{\\beta}}(\\tau_2) c_{\\gamma}(0^-) c^\\dagger_{\\bar{\\gamma}}(0) \\rangle \\equiv \n",
    "- G^{(4)}(\\tau_1, \\tau_2, 0^+)\n",
    "\\, ,\n",
    "$$\n",
    "that can be calculated separately as:\n"
   ]
  },
  {
   "cell_type": "code",
   "execution_count": 8,
   "metadata": {
    "collapsed": true
   },
   "outputs": [],
   "source": [
    "prodmesh2 = MeshProduct(imtime, imtime)\n",
    "g3pp_tau = Gf(name=r'$G^{(3)}(\\tau_1, \\tau_2)$', mesh=prodmesh2, target_shape=[1, 1, 1, 1])\n",
    "ed.set_g3_tau(g3pp_tau, c(up,0), c_dag(up,0), c(up,0)*c_dag(up,0))"
   ]
  },
  {
   "cell_type": "markdown",
   "metadata": {},
   "source": [
    "\n",
    "To visualize this we use `matplotlib` directly\n"
   ]
  },
  {
   "cell_type": "code",
   "execution_count": 14,
   "metadata": {},
   "outputs": [],
   "source": [
    "import numpy as np\n",
    "from mpl_toolkits.mplot3d import axes3d\n",
    "fig = plt.figure(figsize=(3.25*2, 2*2.5))\n",
    "ax = fig.add_subplot(1,1,1, projection='3d')\n",
    "\n",
    "data = g3pp_tau.data[:, :, 0, 0, 0, 0]\n",
    "tau = [tau.value.real for tau in g3pp_tau.mesh.components[0]]\n",
    "t1, t2 = np.meshgrid(tau, tau)\n",
    "ax.plot_wireframe(t1, t2, data.real)\n",
    "ax.view_init(30, 60)\n",
    "ax.set_xlabel(r'$\\tau_1$')\n",
    "ax.set_ylabel(r'$\\tau_2$')\n",
    "plt.tight_layout()\n",
    "plt.savefig('figure_g3pp_tau.png')"
   ]
  },
  {
   "cell_type": "markdown",
   "metadata": {},
   "source": [
    "![Equal-time two-particle Green's function](figure_g3pp_tau.png)"
   ]
  }
 ],
 "metadata": {
  "kernelspec": {
   "display_name": "Python 2",
   "language": "python",
   "name": "python2"
  },
  "language_info": {
   "codemirror_mode": {
    "name": "ipython",
    "version": 2
   },
   "file_extension": ".py",
   "mimetype": "text/x-python",
   "name": "python",
   "nbconvert_exporter": "python",
   "pygments_lexer": "ipython2",
   "version": "2.7.13"
  }
 },
 "nbformat": 4,
 "nbformat_minor": 2
}
