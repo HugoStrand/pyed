{
 "cells": [
  {
   "cell_type": "markdown",
   "metadata": {},
   "source": [
    "# Another example: Anderson impurity model"
   ]
  },
  {
   "cell_type": "markdown",
   "metadata": {},
   "source": [
    "The calculation takes about an 10 minutes."
   ]
  },
  {
   "cell_type": "markdown",
   "metadata": {},
   "source": [
    "## Hamiltonian\n",
    "\n",
    "As an example let us solve the Anderson impurity model local with Hamiltonian $H = U\\hat{n}_{\\uparrow} \\hat{n}_{\\downarrow} - \\mu ( \\hat{n}_{\\uparrow} + \\hat{n}_{\\downarrow})$,"
   ]
  },
  {
   "cell_type": "code",
   "execution_count": 1,
   "metadata": {},
   "outputs": [
    {
     "name": "stdout",
     "output_type": "stream",
     "text": [
      "H_loc = -0.1*c_dag('dn',0)*c('dn',0) + -0.1*c_dag('up',0)*c('up',0) + 1*c_dag('dn',0)*c_dag('up',0)*c('up',0)*c('dn',0)\n"
     ]
    }
   ],
   "source": [
    "from pytriqs.operators import c, c_dag\n",
    "up, down = 'up', 'dn'\n",
    "n_up = c_dag(up, 0) * c(up, 0)\n",
    "n_down = c_dag(down, 0) * c(down, 0)\n",
    "\n",
    "U = 1.0\n",
    "mu = 0.1\n",
    "\n",
    "H_loc = U * n_up * n_down - mu * (n_up + n_down)\n",
    "\n",
    "print 'H_loc =', H_loc"
   ]
  },
  {
   "cell_type": "markdown",
   "metadata": {},
   "source": [
    "with 5 bath sites. Parameters of bath sites in ek and V arrays."
   ]
  },
  {
   "cell_type": "code",
   "execution_count": 2,
   "metadata": {
    "collapsed": true
   },
   "outputs": [],
   "source": [
    "from itertools import product\n",
    "ek = [-2.0,-1.0, 0, 1.0,2.0]\n",
    "V = [0.5,0.5, 0.5, 0.5,0.5]\n",
    "H_hyb=sum(V[i]*(c_dag(s,i+1)*c(s,0)+c_dag(s,0)*c(s,i+1)) for s, i in product(['up','dn'], range(len(ek))))\n",
    "H_hyb+=sum(ek[i]*(c_dag(s,i+1)*c(s,i+1)) for s, i in product(['up','dn'], range(len(ek))))"
   ]
  },
  {
   "cell_type": "code",
   "execution_count": 3,
   "metadata": {},
   "outputs": [
    {
     "data": {
      "text/plain": [
       "0.5*c_dag('dn',0)*c('dn',5) + 0.5*c_dag('dn',0)*c('dn',4) + 0.5*c_dag('dn',0)*c('dn',3) + 0.5*c_dag('dn',0)*c('dn',2) + 0.5*c_dag('dn',0)*c('dn',1) + -2*c_dag('dn',1)*c('dn',1) + 0.5*c_dag('dn',1)*c('dn',0) + -1*c_dag('dn',2)*c('dn',2) + 0.5*c_dag('dn',2)*c('dn',0) + 0.5*c_dag('dn',3)*c('dn',0) + 1*c_dag('dn',4)*c('dn',4) + 0.5*c_dag('dn',4)*c('dn',0) + 2*c_dag('dn',5)*c('dn',5) + 0.5*c_dag('dn',5)*c('dn',0) + 0.5*c_dag('up',0)*c('up',5) + 0.5*c_dag('up',0)*c('up',4) + 0.5*c_dag('up',0)*c('up',3) + 0.5*c_dag('up',0)*c('up',2) + 0.5*c_dag('up',0)*c('up',1) + -2*c_dag('up',1)*c('up',1) + 0.5*c_dag('up',1)*c('up',0) + -1*c_dag('up',2)*c('up',2) + 0.5*c_dag('up',2)*c('up',0) + 0.5*c_dag('up',3)*c('up',0) + 1*c_dag('up',4)*c('up',4) + 0.5*c_dag('up',4)*c('up',0) + 2*c_dag('up',5)*c('up',5) + 0.5*c_dag('up',5)*c('up',0)"
      ]
     },
     "execution_count": 3,
     "metadata": {},
     "output_type": "execute_result"
    }
   ],
   "source": [
    "H_hyb"
   ]
  },
  {
   "cell_type": "markdown",
   "metadata": {},
   "source": [
    "## Thermal equilibrium solution"
   ]
  },
  {
   "cell_type": "code",
   "execution_count": 4,
   "metadata": {},
   "outputs": [
    {
     "name": "stdout",
     "output_type": "stream",
     "text": [
      "Hamiltonian diagonalization:\n"
     ]
    },
    {
     "name": "stderr",
     "output_type": "stream",
     "text": [
      "/usr/local/lib/python2.7/dist-packages/scipy/sparse/compressed.py:774: SparseEfficiencyWarning: Changing the sparsity structure of a csr_matrix is expensive. lil_matrix is more efficient.\n",
      "  SparseEfficiencyWarning)\n",
      "100% |########################################################################|\n"
     ]
    },
    {
     "name": "stdout",
     "output_type": "stream",
     "text": [
      "Z = 1.00455892128\n",
      "\\Omega = -7.409527089\n"
     ]
    }
   ],
   "source": [
    "import numpy as np\n",
    "beta = 20.0 # inverse temperature\n",
    "fundamental_operators = np.array([[c(up,i), c(down,i)] for i in range(len(ek)+1)]).flatten()\n",
    "\n",
    "from pyed.TriqsExactDiagonalization import TriqsExactDiagonalization\n",
    "ed = TriqsExactDiagonalization(H_loc+H_hyb, fundamental_operators, beta)\n",
    "\n",
    "print r'Z =', ed.get_partition_function()\n",
    "print r'\\Omega =', ed.get_free_energy()"
   ]
  },
  {
   "cell_type": "markdown",
   "metadata": {},
   "source": [
    "### Thermal expectation values"
   ]
  },
  {
   "cell_type": "code",
   "execution_count": 5,
   "metadata": {},
   "outputs": [
    {
     "name": "stdout",
     "output_type": "stream",
     "text": [
      "<n_up>   = 0.39987118753\n",
      "<n_down> = 0.39987118753\n",
      "<n_up * n_down> = 0.125252462256\n"
     ]
    }
   ],
   "source": [
    "print '<n_up>   =', ed.get_expectation_value(n_up)\n",
    "print '<n_down> =', ed.get_expectation_value(n_down)\n",
    "print '<n_up * n_down> =', ed.get_expectation_value(n_up * n_down)"
   ]
  },
  {
   "cell_type": "markdown",
   "metadata": {},
   "source": [
    "## Imaginary time single-particle Green's function"
   ]
  },
  {
   "cell_type": "code",
   "execution_count": 6,
   "metadata": {},
   "outputs": [
    {
     "name": "stderr",
     "output_type": "stream",
     "text": [
      "100% |########################################################################|\n"
     ]
    },
    {
     "data": {
      "image/png": "[encoded data removed]",
      "text/plain": [
       "<matplotlib.figure.Figure at 0x2ac364926110>"
      ]
     },
     "metadata": {},
     "output_type": "display_data"
    }
   ],
   "source": [
    "from pytriqs.gf import GfImTime\n",
    "g_tau = GfImTime(name=r'$g$', beta=beta, statistic='Fermion', n_points=50, indices=[1])    \n",
    "ed.set_g2_tau(g_tau, c(up,0), c_dag(up,0))\n",
    "\n",
    "import matplotlib.pyplot as plt\n",
    "from pytriqs.plot.mpl_interface import oplot\n",
    "%matplotlib inline\n",
    "plt.figure(); oplot(g_tau); plt.savefig('figure_g_tau.png')"
   ]
  },
  {
   "cell_type": "code",
   "execution_count": 7,
   "metadata": {
    "scrolled": true
   },
   "outputs": [
    {
     "name": "stderr",
     "output_type": "stream",
     "text": [
      "100% |########################################################################|\n"
     ]
    },
    {
     "data": {
      "image/png": "[encoded data removed]",
      "text/plain": [
       "<matplotlib.figure.Figure at 0x2ac364926a50>"
      ]
     },
     "metadata": {},
     "output_type": "display_data"
    }
   ],
   "source": [
    "from pytriqs.gf import GfImTime\n",
    "densdens_tau = GfImTime(name=r'$\\langle n(\\tau) n(0) \\rangle$', beta=beta, statistic='Boson', n_points=50, indices=[1])    \n",
    "ed.set_g2_tau(densdens_tau, n_up, n_down)\n",
    "\n",
    "plt.figure(); oplot(densdens_tau); plt.savefig('figure_densdens_tau.png')"
   ]
  },
  {
   "cell_type": "code",
   "execution_count": 8,
   "metadata": {},
   "outputs": [
    {
     "name": "stderr",
     "output_type": "stream",
     "text": [
      "100% |########################################################################|\n"
     ]
    },
    {
     "data": {
      "image/png": "[encoded data removed]",
      "text/plain": [
       "<matplotlib.figure.Figure at 0x2ac364905ad0>"
      ]
     },
     "metadata": {},
     "output_type": "display_data"
    }
   ],
   "source": [
    "from pytriqs.gf import GfImFreq\n",
    "g_iwn = GfImFreq(name=r'$g$', beta=beta, statistic='Fermion', n_points=100, indices=[1])\n",
    "ed.set_g2_iwn(g_iwn, c(up,0), c_dag(up,0))\n",
    "\n",
    "plt.figure(); oplot(g_iwn); plt.savefig('figure_g_iwn.png')"
   ]
  },
  {
   "cell_type": "markdown",
   "metadata": {},
   "source": [
    "# Four-operator response functions"
   ]
  },
  {
   "cell_type": "code",
   "execution_count": null,
   "metadata": {
    "collapsed": true
   },
   "outputs": [],
   "source": [
    "from pytriqs.gf import Gf\n",
    "from pytriqs.gf import MeshImTime, MeshProduct\n",
    "\n",
    "ntau = 10\n",
    "imtime = MeshImTime(beta, 'Fermion', ntau)"
   ]
  },
  {
   "cell_type": "code",
   "execution_count": null,
   "metadata": {
    "collapsed": true
   },
   "outputs": [],
   "source": [
    "prodmesh2 = MeshProduct(imtime, imtime)\n",
    "g3pp_tau = Gf(name=r'$G^{(3)}(\\tau_1, \\tau_2)$', mesh=prodmesh2, target_shape=[1, 1, 1, 1])\n",
    "ed.set_g3_tau(g3pp_tau, c(up,0), c_dag(up,0), c(up,0)*c_dag(up,0))"
   ]
  },
  {
   "cell_type": "code",
   "execution_count": null,
   "metadata": {},
   "outputs": [],
   "source": [
    "import numpy as np\n",
    "from mpl_toolkits.mplot3d import axes3d\n",
    "fig = plt.figure(figsize=(3.25*2, 2*2.5))\n",
    "ax = fig.add_subplot(1,1,1, projection='3d')\n",
    "\n",
    "data = g3pp_tau.data[:, :, 0, 0, 0, 0]\n",
    "tau = [tau.real for tau in g3pp_tau.mesh.components[0]]\n",
    "t1, t2 = np.meshgrid(tau, tau)\n",
    "ax.plot_wireframe(t1, t2, data.real)\n",
    "ax.view_init(30, 60)\n",
    "ax.set_xlabel(r'$\\tau_1$')\n",
    "ax.set_ylabel(r'$\\tau_2$')\n",
    "plt.tight_layout()\n",
    "plt.savefig('figure_g3pp_tau.png')"
   ]
  }
 ],
 "metadata": {
  "kernelspec": {
   "display_name": "Python 2",
   "language": "python",
   "name": "python2"
  },
  "language_info": {
   "codemirror_mode": {
    "name": "ipython",
    "version": 2
   },
   "file_extension": ".py",
   "mimetype": "text/x-python",
   "name": "python",
   "nbconvert_exporter": "python",
   "pygments_lexer": "ipython2",
   "version": "2.7.12"
  }
 },
 "nbformat": 4,
 "nbformat_minor": 2
}
