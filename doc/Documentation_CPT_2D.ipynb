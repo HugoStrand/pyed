{
 "cells": [
  {
   "cell_type": "markdown",
   "metadata": {},
   "source": [
    "# **PYED+CPT **:Cluster pertrubation theory with exact diagonalization for finite quantum systems\n",
    "\n",
    "Copyright (C) 2017, H. U.R. Strand, Ya.V. Zhumagulov\n",
    "\n",
    "The python module `pyed` implements exact diagonalization for finite fermionic many-body quantum systems, together with calculations of several response functions in imagianary time.\n",
    "\n",
    "The many-body system is defined using `pytriqs` second-quantized operators and the response functions are stored in `pytriqs` Green's function containters.\n",
    "\n",
    "Cluster pertrubation theory addition to `pyed`  allow calculate bandstructure and Fermi surface of several models. \n",
    "\n",
    "## Hamiltonians\n",
    "\n",
    " As an example let us solve the Hubbard model with Hamiltonian including only nearest-neighbor hoppings $H = U\\sum_{i}\\hat{n}_{i,\\uparrow} \\hat{n}_{i,\\downarrow} - \\mu\\sum_{i}( \\hat{n}_{i,\\uparrow} + \\hat{n}_{i,\\downarrow}) + t \\sum_{<ij>,\\sigma}c^\\dagger_{i,\\sigma} c_{j\\sigma}$, where $\\hat{n}_\\sigma = c^\\dagger_\\sigma c_\\sigma$. \n"
   ]
  },
  {
   "cell_type": "code",
   "execution_count": 18,
   "metadata": {},
   "outputs": [],
   "source": [
    "from pytriqs.operators import c, c_dag,n\n",
    "from pyed.TriqsExactDiagonalization import TriqsExactDiagonalization\n",
    "from pyed.ClusterPertrubationTheory import ClusterPertrubationTheory_2D_Square\n",
    "import numpy as np\n",
    "import progressbar\n",
    "from itertools import product\n",
    "import matplotlib.pyplot as plt\n",
    "%matplotlib inline"
   ]
  },
  {
   "cell_type": "markdown",
   "metadata": {},
   "source": [
    "Parameters of model: U=8, t=-1, $\\mu$=U/2 and size of exact diagonaliztion cluster will be 2x2"
   ]
  },
  {
   "cell_type": "code",
   "execution_count": 30,
   "metadata": {
    "collapsed": true
   },
   "outputs": [],
   "source": [
    "t =-1;U=8;mu=U/2\n",
    "Lx,Ly=2,2;L=Lx*Ly"
   ]
  },
  {
   "cell_type": "code",
   "execution_count": 31,
   "metadata": {
    "collapsed": true
   },
   "outputs": [],
   "source": [
    "T=np.zeros((L,L))\n",
    "for i in range(L):\n",
    "    for j in range(L):\n",
    "        x = i % Lx - j % Ly\n",
    "        y = i // Lx - j // Ly\n",
    "        if (x**2+y**2)==1: T[i,j]=t            \n",
    "H_int = sum(-mu*(n('up', site) + n('dn', site)) + U * n('up', site) * n('dn', site) for site in range(L))\n",
    "H_kin = sum(T[st1][st2]*c_dag(sn,st1)*c(sn,st2) for sn, st1,st2 in product((\"dn\", \"up\"), range(L),range(L)) )\n",
    "H = H_int +H_kin"
   ]
  },
  {
   "cell_type": "markdown",
   "metadata": {},
   "source": [
    "Parameter $\\beta$ will be 200"
   ]
  },
  {
   "cell_type": "code",
   "execution_count": 32,
   "metadata": {},
   "outputs": [
    {
     "name": "stdout",
     "output_type": "stream",
     "text": [
      "Hamiltonian diagonalization:\n"
     ]
    },
    {
     "name": "stderr",
     "output_type": "stream",
     "text": [
      "  0% |                                                                        |\r",
      "  4% |##                                                                      |\r",
      "  8% |#####                                                                   |\r",
      " 12% |########                                                                |\r",
      " 16% |###########                                                             |\r",
      " 20% |##############                                                          |\r",
      " 24% |#################                                                       |\r",
      " 28% |####################                                                    |\r",
      " 32% |#######################                                                 |\r",
      " 36% |#########################                                               |\r",
      " 40% |############################                                            |\r",
      " 44% |###############################                                         |\r",
      " 48% |##################################                                      |\r",
      " 52% |#####################################                                   |\r",
      " 56% |########################################                                |\r",
      " 60% |###########################################                             |\r",
      " 64% |##############################################                          |\r",
      " 68% |################################################                        |\r",
      " 72% |###################################################                     |\r",
      " 76% |######################################################                  |\r",
      " 80% |#########################################################               |\r",
      " 84% |############################################################            |\r",
      " 88% |###############################################################         |\r",
      " 92% |##################################################################      |\r",
      " 96% |#####################################################################   |\r",
      "100% |########################################################################|\r\n"
     ]
    }
   ],
   "source": [
    "fundamental_operators = np.array([[c('up',i), c('dn',i)] for i in range(L)]).flatten()\n",
    "H=H_int+H_kin\n",
    "beta=200;nstates=200\n",
    "ed = TriqsExactDiagonalization(H,fundamental_operators, beta,nstates=nstates)"
   ]
  },
  {
   "cell_type": "markdown",
   "metadata": {},
   "source": [
    "Now we construct, frequency meshgrid, momentum meshgrid and pertrubation matrix V\n",
    "\n",
    "Further explation you can find in:\n",
    "\n",
    "https://www.physique.usherbrooke.ca/pages/sites/default/files/senechal/publis/Senechal2011vn.pdf"
   ]
  },
  {
   "cell_type": "code",
   "execution_count": 37,
   "metadata": {
    "collapsed": true
   },
   "outputs": [],
   "source": [
    "N=60\n",
    "kx = np.linspace(-np.pi, np.pi, N+1);kx = np.delete(kx, 0)\n",
    "ky = np.linspace(-np.pi, np.pi,N+1);ky = np.delete(ky, 0)\n",
    "kx, ky = np.meshgrid(kx, ky)\n",
    "V=np.zeros((N,N,L,L),dtype=np.complex)\n",
    "for a,b in product(range(L),range(L)):\n",
    "        x=a % Lx - b % Ly ; y=a// Lx - b// Ly\n",
    "        if (y==(Ly-1))&(x==0):V[:,:,a,b]=t*np.exp(1j*Ly*ky);V[:,:,b,a]=t*np.exp(-1j*Ly*ky)\n",
    "        if (x==(Lx-1))&(y==0):V[:,:,a,b]=t*np.exp(1j*Lx*kx);V[:,:,b,a]=t*np.exp(-1j*Lx*kx)"
   ]
  },
  {
   "cell_type": "markdown",
   "metadata": {},
   "source": [
    "To apply Cluster Pertrubation Theory to our exact diagonalization we use `ClusterPertrubationTheory_2D_Square` class for 2D Square models"
   ]
  },
  {
   "cell_type": "code",
   "execution_count": null,
   "metadata": {},
   "outputs": [
    {
     "name": "stdout",
     "output_type": "stream",
     "text": [
      "Calculation green function of full system\n"
     ]
    },
    {
     "name": "stderr",
     "output_type": "stream",
     "text": [
      "100% |########################################################################|\n",
      "  0% |                                                                        |\r"
     ]
    },
    {
     "name": "stdout",
     "output_type": "stream",
     "text": [
      "Coupling system\n"
     ]
    },
    {
     "name": "stderr",
     "output_type": "stream",
     "text": [
      " 41% |#############################                                           |\r"
     ]
    }
   ],
   "source": [
    "omega=np.linspace(-10,10,200);\n",
    "CPT=ClusterPertrubationTheory_2D_Square(ed,(kx,ky),V,omega,(Lx,Ly))"
   ]
  },
  {
   "cell_type": "markdown",
   "metadata": {},
   "source": [
    "Now we can calculate Fermi surface"
   ]
  },
  {
   "cell_type": "code",
   "execution_count": null,
   "metadata": {},
   "outputs": [],
   "source": [
    "plt.figure(figsize=(6,6))\n",
    "CPT.calculation_Fermi_surface()\n",
    "plt.imshow(CPT.FS,interpolation='lanczos')"
   ]
  },
  {
   "cell_type": "markdown",
   "metadata": {},
   "source": [
    "And band structure"
   ]
  },
  {
   "cell_type": "code",
   "execution_count": null,
   "metadata": {},
   "outputs": [],
   "source": [
    "plt.figure(figsize=(12,6))\n",
    "CPT.calculation_bandstructure()\n",
    "plt.imshow(CPT.bandstructure,cmap=plt.cm.jet,interpolation='lanczos', aspect='auto')"
   ]
  }
 ],
 "metadata": {
  "kernelspec": {
   "display_name": "Python 2",
   "language": "python",
   "name": "python2"
  },
  "language_info": {
   "codemirror_mode": {
    "name": "ipython",
    "version": 2
   },
   "file_extension": ".py",
   "mimetype": "text/x-python",
   "name": "python",
   "nbconvert_exporter": "python",
   "pygments_lexer": "ipython2",
   "version": "2.7.12"
  }
 },
 "nbformat": 4,
 "nbformat_minor": 2
}
